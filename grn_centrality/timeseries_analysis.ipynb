{
 "cells": [
  {
   "cell_type": "code",
   "execution_count": 2,
   "metadata": {},
   "outputs": [],
   "source": [
    "#Download dependencies before proceeding\n",
    "\n",
    "import pandas as pd\n",
    "import seaborn as sns\n",
    "import matplotlib\n",
    "import matplotlib.pyplot as plt\n",
    "import networkx as nx\n",
    "import numpy as np\n",
    "from arboreto.algo import grnboost2\n",
    "import os\n",
    "import umap\n",
    "\n",
    "sns.set(rc={'figure.figsize':(12,8)})\n",
    "sns.set(style='whitegrid')"
   ]
  },
  {
   "cell_type": "markdown",
   "metadata": {},
   "source": [
    "Load in files for analysis"
   ]
  },
  {
   "cell_type": "code",
   "execution_count": 3,
   "metadata": {},
   "outputs": [
    {
     "name": "stdout",
     "output_type": "stream",
     "text": [
      "      Gene  LNCaP_Clone07_04uM  LNCaP_Clone07_16uM  LNCaP_Clone07_50uM\n",
      "0      LBH            0.833386            0.000000           14.909345\n",
      "1     HPGD            0.000000            3.364998           29.818690\n",
      "2   CHRDL2            0.833386            3.364998           79.516507\n",
      "3    KRT75            1.666772            3.364998          120.517207\n",
      "4  CACNA1A            0.000000            0.000000            1.242445\n",
      "      Gene  LNCaP_Clone10_04uM  LNCaP_Clone10_16uM  LNCaP_Clone10_50uM\n",
      "0      LBH                 0.0            0.000000           82.704033\n",
      "1     HPGD                 0.0            0.000000            4.531728\n",
      "2   CHRDL2                 0.0            1.988285           21.525707\n",
      "3    KRT75                 0.0            4.970713           60.045394\n",
      "4  CACNA1A                 0.0            0.994143            0.000000\n",
      "      Gene  LNCaP_Clone03_04uM  LNCaP_Clone03_16uM  LNCaP_Clone03_50uM\n",
      "0      LBH            0.776808            4.322279            3.427525\n",
      "1     HPGD            0.000000            1.080570            9.140066\n",
      "2   CHRDL2            0.000000            3.241709           30.847721\n",
      "3    KRT75            1.553616            3.241709           39.987787\n",
      "4  CACNA1A            0.000000            0.000000           18.280131\n",
      "      Gene  LNCaP_Clone04_04uM  LNCaP_Clone04_16uM  LNCaP_Clone04_50uM\n",
      "0      LBH            0.742849            6.024117          119.985675\n",
      "1     HPGD            0.000000            0.000000           21.570458\n",
      "2   CHRDL2            0.000000            3.614470           25.614919\n",
      "3    KRT75            2.228546            6.024117           14.829690\n",
      "4  CACNA1A            0.000000            0.000000            0.000000\n"
     ]
    }
   ],
   "source": [
    "wd = '/home/users/jvs15/MachineLearningProstate'\n",
    "d = {}\n",
    "for name in os.listdir(f'{wd}/data/timeseries/'):\n",
    "    nametag = name.split('_')[1]\n",
    "    nametag = nametag.split('.')[0]\n",
    "    if 'Clone' in nametag:\n",
    "        d[nametag] = pd.read_csv(f'{wd}/data/timeseries/{name}')"
   ]
  },
  {
   "attachments": {},
   "cell_type": "markdown",
   "metadata": {},
   "source": [
    "Compare gene expression by time point and generate lists of genes that are continuously up or down"
   ]
  },
  {
   "cell_type": "code",
   "execution_count": 4,
   "metadata": {},
   "outputs": [],
   "source": [
    "concs = ['04uM', '16uM', '50uM']\n",
    "\n",
    "# Make a new column called 'Trajectory' that keeps track of gene expression changes between states\n",
    "\n",
    "# NOTE: This excludes values that have 0 values at two different time points (for now)\n",
    "\n",
    "genelist = {}\n",
    "for k, v in d.items():\n",
    "    cols = [f'LNCaP_{k}_{conc}' for conc in concs]\n",
    "    v['Trajectory'] = np.select([\n",
    "                        (v[cols[0]] < v[cols[1]]) & (v[cols[1]] < v[cols[2]]),\n",
    "                        (v[cols[0]] > v[cols[1]]) & (v[cols[1]] > v[cols[2]]),\n",
    "                        (v[cols[0]] < v[cols[1]]) & (v[cols[1]] > v[cols[2]]),\n",
    "                        (v[cols[0]] > v[cols[1]]) & (v[cols[1]] < v[cols[2]])\n",
    "                        ],\n",
    "                        ['up', 'down', 'updown', 'downup'])\n",
    "    # NOTE: Likely important to adjust log math in the future or on case by case basis\n",
    "    v['FC'] = np.log2((v[cols[2]] + 1) / (v[cols[0]] + 1))\n",
    "    genelist[k] = {}\n",
    "    genelist[k]['up'] = v[['Gene', 'FC']].loc[v['Trajectory'] == 'up']\n",
    "    genelist[k]['down'] = v[['Gene', 'FC']].loc[v['Trajectory'] == 'down']\n",
    "    "
   ]
  },
  {
   "attachments": {},
   "cell_type": "markdown",
   "metadata": {},
   "source": [
    "Make .rnk files for running GSEA -- should also be helpful for making Venn diagrams in R?"
   ]
  },
  {
   "cell_type": "code",
   "execution_count": 10,
   "metadata": {},
   "outputs": [],
   "source": [
    "def make_rnk(genelist, sample, trajectory):\n",
    "    df = genelist[sample][trajectory].sort_values(by = 'FC')\n",
    "    df.to_csv(f'{sample}_{trajectory}.rnk', sep='\\t', index=False, header=False)\n",
    "    return\n",
    "\n",
    "make_rnk(genelist, 'Clone03', 'up')"
   ]
  },
  {
   "attachments": {},
   "cell_type": "markdown",
   "metadata": {},
   "source": [
    "Grab lists of genes that are continuously up or down"
   ]
  },
  {
   "cell_type": "code",
   "execution_count": 7,
   "metadata": {},
   "outputs": [
    {
     "name": "stdout",
     "output_type": "stream",
     "text": [
      "Gene\n",
      "FC\n"
     ]
    }
   ],
   "source": [
    "def print_genes(genelist, sample, trajectory):\n",
    "    \"\"\"\n",
    "    genelist: nested dictionary. Keys are samples, keys of keys are 'up' or 'down' gene lists\n",
    "    sample: string representing sample type\n",
    "    trajectory: string representing geneset type\n",
    "    \"\"\"\n",
    "    for gene in genelist[sample][trajectory]:\n",
    "        print(gene)\n",
    "    return\n",
    "\n"
   ]
  },
  {
   "cell_type": "code",
   "execution_count": null,
   "metadata": {},
   "outputs": [],
   "source": []
  }
 ],
 "metadata": {
  "interpreter": {
   "hash": "9527a7327203aedd8e2ebbc16ca4eaa239732d0679c5769206fa6f11c48c955d"
  },
  "kernelspec": {
   "display_name": "Python 3.9.12 64-bit ('moleculekit': conda)",
   "name": "python3"
  },
  "language_info": {
   "codemirror_mode": {
    "name": "ipython",
    "version": 3
   },
   "file_extension": ".py",
   "mimetype": "text/x-python",
   "name": "python",
   "nbconvert_exporter": "python",
   "pygments_lexer": "ipython3",
   "version": "3.9.12"
  },
  "orig_nbformat": 4
 },
 "nbformat": 4,
 "nbformat_minor": 2
}
